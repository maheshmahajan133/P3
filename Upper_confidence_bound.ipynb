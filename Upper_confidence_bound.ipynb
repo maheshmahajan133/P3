{
  "nbformat": 4,
  "nbformat_minor": 0,
  "metadata": {
    "colab": {
      "name": "Upper  confidence bound.ipynb",
      "provenance": [],
      "collapsed_sections": [],
      "authorship_tag": "ABX9TyPl/1ynnK7yhvScZTl2ZY56",
      "include_colab_link": true
    },
    "kernelspec": {
      "name": "python3",
      "display_name": "Python 3"
    },
    "language_info": {
      "name": "python"
    }
  },
  "cells": [
    {
      "cell_type": "markdown",
      "metadata": {
        "id": "view-in-github",
        "colab_type": "text"
      },
      "source": [
        "<a href=\"https://colab.research.google.com/github/maheshmahajan133/P3/blob/main/Upper_confidence_bound.ipynb\" target=\"_parent\"><img src=\"https://colab.research.google.com/assets/colab-badge.svg\" alt=\"Open In Colab\"/></a>"
      ]
    },
    {
      "cell_type": "code",
      "execution_count": 1,
      "metadata": {
        "id": "LjwU196W4O8p"
      },
      "outputs": [],
      "source": [
        "import pandas as pd\n",
        "import numpy as np\n",
        "import matplotlib.pyplot as plt"
      ]
    },
    {
      "cell_type": "code",
      "source": [
        "dataset=pd.read_csv('/content/Ads_CTR_Optimisation.csv')"
      ],
      "metadata": {
        "id": "7lGnZYBkFXkQ"
      },
      "execution_count": 2,
      "outputs": []
    },
    {
      "cell_type": "code",
      "source": [
        "import math\n",
        "N=10000\n",
        "d=10\n",
        "ads_selected=[]\n",
        "numbers_of_selections=[0]*d\n",
        "sums_of_rewards=[0]*d\n",
        "total_reward=0\n",
        "for n in range(0,N):\n",
        "  ad=0\n",
        "  max_upper_bound=0\n",
        "  for i in range(0,d):\n",
        "    if (numbers_of_selections[i]>0):\n",
        "      average_reward=sums_of_rewards[i]/numbers_of_selections[i]\n",
        "      delta_i= math.sqrt(3/2*math.log(n+1)/numbers_of_selections[i])\n",
        "      upper_bound=average_reward+delta_i\n",
        "    else:\n",
        "      upper_bound=1e400\n",
        "    if (upper_bound>max_upper_bound):\n",
        "      max_upper_bound=upper_bound\n",
        "      ad=i\n",
        "  ads_selected.append(ad)\n",
        "  numbers_of_selections[ad]=numbers_of_selections[ad]+1\n",
        "  reward =dataset.values[n,ad]\n",
        "  sums_of_rewards[ad]=sums_of_rewards[ad] + reward \n",
        "  total_reward=total_reward+reward\n"
      ],
      "metadata": {
        "id": "3n7F4yFkFhtS"
      },
      "execution_count": 15,
      "outputs": []
    },
    {
      "cell_type": "code",
      "source": [
        "plt.hist(ads_selected)\n",
        "plt.title('Histogram of ads selections')\n",
        "plt.xlabel('ads')\n",
        "plt.ylabel(\"Numbers of times each ad was selected\")\n",
        "plt.show()"
      ],
      "metadata": {
        "colab": {
          "base_uri": "https://localhost:8080/",
          "height": 295
        },
        "id": "GT7HdzwAF22x",
        "outputId": "8ea12138-ca93-489a-f4cb-b4550469d5b6"
      },
      "execution_count": 16,
      "outputs": [
        {
          "output_type": "display_data",
          "data": {
            "image/png": "[encoded data removed]",
            "text/plain": [
              "<Figure size 432x288 with 1 Axes>"
            ]
          },
          "metadata": {
            "needs_background": "light"
          }
        }
      ]
    },
    {
      "cell_type": "code",
      "source": [
        "import math\n",
        "N=5000\n",
        "d=10\n",
        "ads_selected=[]\n",
        "numbers_of_selections=[0]*d\n",
        "sums_of_rewards=[0]*d\n",
        "total_reward=0\n",
        "for n in range(0,N):\n",
        "  ad=0\n",
        "  max_upper_bound=0\n",
        "  for i in range(0,d):\n",
        "    if (numbers_of_selections[i]>0):\n",
        "      average_reward=sums_of_rewards[i]/numbers_of_selections[i]\n",
        "      delta_i= math.sqrt(3/2*math.log(n+1)/numbers_of_selections[i])\n",
        "      upper_bound=average_reward+delta_i\n",
        "    else:\n",
        "      upper_bound=1e400\n",
        "    if (upper_bound>max_upper_bound):\n",
        "      max_upper_bound=upper_bound\n",
        "      ad=i\n",
        "  ads_selected.append(ad)\n",
        "  numbers_of_selections[ad]=numbers_of_selections[ad]+1\n",
        "  reward =dataset.values[n,ad]\n",
        "  sums_of_rewards[ad]=sums_of_rewards[ad] + reward \n",
        "  total_reward=total_reward+reward\n",
        "plt.hist(ads_selected)\n",
        "plt.title('Histogram of ads selections')\n",
        "plt.xlabel('ads')\n",
        "plt.ylabel(\"Numbers of times each ad was selected\")\n",
        "plt.show()"
      ],
      "metadata": {
        "colab": {
          "base_uri": "https://localhost:8080/",
          "height": 295
        },
        "id": "YmrKSD24Fh6o",
        "outputId": "e23fa4bf-f3f6-4bdd-e8db-05e1bff22e23"
      },
      "execution_count": 18,
      "outputs": [
        {
          "output_type": "display_data",
          "data": {
            "image/png": "[encoded data removed]",
            "text/plain": [
              "<Figure size 432x288 with 1 Axes>"
            ]
          },
          "metadata": {
            "needs_background": "light"
          }
        }
      ]
    },
    {
      "cell_type": "code",
      "source": [
        "import math\n",
        "N=1000\n",
        "d=10\n",
        "ads_selected=[]\n",
        "numbers_of_selections=[0]*d\n",
        "sums_of_rewards=[0]*d\n",
        "total_reward=0\n",
        "for n in range(0,N):\n",
        "  ad=0\n",
        "  max_upper_bound=0\n",
        "  for i in range(0,d):\n",
        "    if (numbers_of_selections[i]>0):\n",
        "      average_reward=sums_of_rewards[i]/numbers_of_selections[i]\n",
        "      delta_i= math.sqrt(3/2*math.log(n+1)/numbers_of_selections[i])\n",
        "      upper_bound=average_reward+delta_i\n",
        "    else:\n",
        "      upper_bound=1e400\n",
        "    if (upper_bound>max_upper_bound):\n",
        "      max_upper_bound=upper_bound\n",
        "      ad=i\n",
        "  ads_selected.append(ad)\n",
        "  numbers_of_selections[ad]=numbers_of_selections[ad]+1\n",
        "  reward =dataset.values[n,ad]\n",
        "  sums_of_rewards[ad]=sums_of_rewards[ad] + reward \n",
        "  total_reward=total_reward+reward\n",
        "plt.hist(ads_selected)\n",
        "plt.title('Histogram of ads selections')\n",
        "plt.xlabel('ads')\n",
        "plt.ylabel(\"Numbers of times each ad was selected\")\n",
        "plt.show()"
      ],
      "metadata": {
        "colab": {
          "base_uri": "https://localhost:8080/",
          "height": 295
        },
        "id": "g3UR3aQZFiGw",
        "outputId": "c3f815e9-b893-48e2-f2d3-5b47b51c5d1c"
      },
      "execution_count": 19,
      "outputs": [
        {
          "output_type": "display_data",
          "data": {
            "image/png": "[encoded data removed]",
            "text/plain": [
              "<Figure size 432x288 with 1 Axes>"
            ]
          },
          "metadata": {
            "needs_background": "light"
          }
        }
      ]
    },
    {
      "cell_type": "code",
      "source": [
        "import math\n",
        "N=600\n",
        "d=10\n",
        "ads_selected=[]\n",
        "numbers_of_selections=[0]*d\n",
        "sums_of_rewards=[0]*d\n",
        "total_reward=0\n",
        "for n in range(0,N):\n",
        "  ad=0\n",
        "  max_upper_bound=0\n",
        "  for i in range(0,d):\n",
        "    if (numbers_of_selections[i]>0):\n",
        "      average_reward=sums_of_rewards[i]/numbers_of_selections[i]\n",
        "      delta_i= math.sqrt(3/2*math.log(n+1)/numbers_of_selections[i])\n",
        "      upper_bound=average_reward+delta_i\n",
        "    else:\n",
        "      upper_bound=1e400\n",
        "    if (upper_bound>max_upper_bound):\n",
        "      max_upper_bound=upper_bound\n",
        "      ad=i\n",
        "  ads_selected.append(ad)\n",
        "  numbers_of_selections[ad]=numbers_of_selections[ad]+1\n",
        "  reward =dataset.values[n,ad]\n",
        "  sums_of_rewards[ad]=sums_of_rewards[ad] + reward \n",
        "  total_reward=total_reward+reward\n",
        "plt.hist(ads_selected)\n",
        "plt.title('Histogram of ads selections')\n",
        "plt.xlabel('ads')\n",
        "plt.ylabel(\"Numbers of times each ad was selected\")\n",
        "plt.show()"
      ],
      "metadata": {
        "colab": {
          "base_uri": "https://localhost:8080/",
          "height": 295
        },
        "id": "3Rus4uRmK3tx",
        "outputId": "24987c78-8561-4b16-dbba-d3ea6333263a"
      },
      "execution_count": 22,
      "outputs": [
        {
          "output_type": "display_data",
          "data": {
            "image/png": "[encoded data removed]",
            "text/plain": [
              "<Figure size 432x288 with 1 Axes>"
            ]
          },
          "metadata": {
            "needs_background": "light"
          }
        }
      ]
    },
    {
      "cell_type": "code",
      "source": [
        "import math\n",
        "N=500\n",
        "d=10\n",
        "ads_selected=[]\n",
        "numbers_of_selections=[0]*d\n",
        "sums_of_rewards=[0]*d\n",
        "total_reward=0\n",
        "for n in range(0,N):\n",
        "  ad=0\n",
        "  max_upper_bound=0\n",
        "  for i in range(0,d):\n",
        "    if (numbers_of_selections[i]>0):\n",
        "      average_reward=sums_of_rewards[i]/numbers_of_selections[i]\n",
        "      delta_i= math.sqrt(3/2*math.log(n+1)/numbers_of_selections[i])\n",
        "      upper_bound=average_reward+delta_i\n",
        "    else:\n",
        "      upper_bound=1e400\n",
        "    if (upper_bound>max_upper_bound):\n",
        "      max_upper_bound=upper_bound\n",
        "      ad=i\n",
        "  ads_selected.append(ad)\n",
        "  numbers_of_selections[ad]=numbers_of_selections[ad]+1\n",
        "  reward =dataset.values[n,ad]\n",
        "  sums_of_rewards[ad]=sums_of_rewards[ad] + reward \n",
        "  total_reward=total_reward+reward\n",
        "plt.hist(ads_selected)\n",
        "plt.title('Histogram of ads selections')\n",
        "plt.xlabel('ads')\n",
        "plt.ylabel(\"Numbers of times each ad was selected\")\n",
        "plt.show()"
      ],
      "metadata": {
        "colab": {
          "base_uri": "https://localhost:8080/",
          "height": 295
        },
        "id": "4_e370V2K_XI",
        "outputId": "75f0fed2-bf1d-40c3-c7e1-75a7a965b651"
      },
      "execution_count": 23,
      "outputs": [
        {
          "output_type": "display_data",
          "data": {
            "image/png": "[encoded data removed]",
            "text/plain": [
              "<Figure size 432x288 with 1 Axes>"
            ]
          },
          "metadata": {
            "needs_background": "light"
          }
        }
      ]
    }
  ]
}